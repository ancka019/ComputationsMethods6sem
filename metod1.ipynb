{
  "nbformat": 4,
  "nbformat_minor": 0,
  "metadata": {
    "colab": {
      "name": "metod1.ipynb",
      "provenance": [],
      "authorship_tag": "ABX9TyOi95hMMnA95lxiK0rfRjv/",
      "include_colab_link": true
    },
    "kernelspec": {
      "name": "python3",
      "display_name": "Python 3"
    },
    "language_info": {
      "name": "python"
    }
  },
  "cells": [
    {
      "cell_type": "markdown",
      "metadata": {
        "id": "view-in-github",
        "colab_type": "text"
      },
      "source": [
        "<a href=\"https://colab.research.google.com/github/ancka019/ComputationsMethods6sem/blob/main/metod1.ipynb\" target=\"_parent\"><img src=\"https://colab.research.google.com/assets/colab-badge.svg\" alt=\"Open In Colab\"/></a>"
      ]
    },
    {
      "cell_type": "code",
      "execution_count": 1,
      "metadata": {
        "id": "XU8fb5s0XLG2"
      },
      "outputs": [],
      "source": [
        "import pandas as pd\n",
        "import numpy as np\n",
        "from numpy.linalg import solve, inv, det, norm, cond\n",
        "from scipy.linalg import hilbert"
      ]
    },
    {
      "cell_type": "code",
      "source": [
        ""
      ],
      "metadata": {
        "id": "AF9xL6jydboa"
      },
      "execution_count": null,
      "outputs": []
    },
    {
      "cell_type": "markdown",
      "source": [
        "# Качественные критерии"
      ],
      "metadata": {
        "id": "EvLuc7k6c_rG"
      }
    },
    {
      "cell_type": "code",
      "source": [
        "def volume_criterion(matrix):\n",
        "    vol = 1\n",
        "    for n in range(matrix.shape[0]):\n",
        "        vol *= norm(matrix[n])\n",
        "    return vol/abs(det(matrix))"
      ],
      "metadata": {
        "id": "oGEyipSScATZ"
      },
      "execution_count": 5,
      "outputs": []
    },
    {
      "cell_type": "code",
      "source": [
        "def spectrum_criterion(matrix): \n",
        "    return norm(matrix)*norm(inv(matrix))"
      ],
      "metadata": {
        "id": "87AGSqhLcehJ"
      },
      "execution_count": 6,
      "outputs": []
    },
    {
      "cell_type": "code",
      "source": [
        "def angle_criterion(matrix): #угловой критерий\n",
        "    C = inv(matrix)\n",
        "    return max([norm(a_n)*norm(c_n) for a_n, c_n in zip(matrix,np.transpose(C))])"
      ],
      "metadata": {
        "id": "QCpvZ6Dbcjkr"
      },
      "execution_count": 7,
      "outputs": []
    },
    {
      "cell_type": "markdown",
      "source": [
        "# Тесты"
      ],
      "metadata": {
        "id": "Y3rv-Hfkd4oV"
      }
    },
    {
      "cell_type": "code",
      "source": [
        "matrix1 = np.array([[-401.64, 200.12], \n",
        "               [21200.72,  -601.76]]) \n",
        "\n",
        "matrix2 = np.array([[-400.94, 200.02],\n",
        "               [1200.12, -600.96]])\n",
        "matrix3 = np.array([[1,2],\n",
        "              [2,3]])\n",
        "\n",
        "matrix4 = np.array([\n",
        "    [0.1,0.2,0.3],\n",
        "    [0.3,0.3,0.3],\n",
        "    [0.3,0.9,0.7]])"
      ],
      "metadata": {
        "id": "grdcjN8Id9EE"
      },
      "execution_count": 10,
      "outputs": []
    },
    {
      "cell_type": "markdown",
      "source": [
        "# Решение"
      ],
      "metadata": {
        "id": "aIHSDwYofBX4"
      }
    },
    {
      "cell_type": "code",
      "source": [
        "array = [matrix1,matrix2, matrix3, matrix4,hilbert(4),hilbert(5)]"
      ],
      "metadata": {
        "id": "B5VuK0ulfV1F"
      },
      "execution_count": 13,
      "outputs": []
    },
    {
      "cell_type": "code",
      "source": [
        "def solution(matrix):\n",
        "    res = []\n",
        "    b = np.random.uniform(-100,100,size=matrix.shape[0])\n",
        "    sol = solve(matrix,b)\n",
        "    for i in (-2,-5,-8):\n",
        "        res.append(norm(solve(matrix-10**(i),b - 10**(i))-sol))\n",
        "    return sol,res"
      ],
      "metadata": {
        "id": "jsrA7xJdfFH5"
      },
      "execution_count": 11,
      "outputs": []
    },
    {
      "cell_type": "code",
      "source": [
        "def conditioning_numbers(matrix):\n",
        "    return(spectrum_criterion(matrix),volume_criterion(matrix),angle_criterion(matrix))"
      ],
      "metadata": {
        "id": "UL2DEqSdfvug"
      },
      "execution_count": 20,
      "outputs": []
    },
    {
      "cell_type": "code",
      "source": [
        "X = pd.DataFrame(columns=['Спектральный критерий','Критерий Ортеги','Угловой критерий','eps=10^(-2)','eps=10^(-5)','eps=10^(-8)'])\n",
        "\n",
        "for matrix in array:\n",
        "    row = []\n",
        "    row.extend(conditioning_numbers(matrix))\n",
        "    row.extend(solution(matrix)[1])\n",
        "    row_series = pd.Series(row,index=X.columns)\n",
        "    X = X.append(row_series,True)\n",
        "    \n",
        "X.index = ['matrix1','matrix2','matrix3', 'matrix4','hilbert(4)','hilbert(5)']\n",
        "\n",
        "X"
      ],
      "metadata": {
        "colab": {
          "base_uri": "https://localhost:8080/",
          "height": 238
        },
        "id": "pXDnrYYjfJnG",
        "outputId": "d5c59b3b-37db-4033-8516-dd67a15f9444"
      },
      "execution_count": 21,
      "outputs": [
        {
          "output_type": "execute_result",
          "data": {
            "text/plain": [
              "            Спектральный критерий  Критерий Ортеги  Угловой критерий  \\\n",
              "matrix1                112.480460     2.378739e+00          2.378739   \n",
              "matrix2               2222.446243     6.675334e+02        667.533363   \n",
              "matrix3                 18.000000     8.062258e+00          8.062258   \n",
              "matrix4                 15.206906     9.550851e+00          3.609882   \n",
              "hilbert(4)           15613.793560     9.370859e+05       4020.913453   \n",
              "hilbert(5)          480849.116998     1.608573e+10      95157.699890   \n",
              "\n",
              "             eps=10^(-2)   eps=10^(-5)   eps=10^(-8)  \n",
              "matrix1     5.423333e-05  5.423030e-08  5.423030e-11  \n",
              "matrix2     2.099114e+00  2.155025e-03  2.155081e-06  \n",
              "matrix3     4.731096e-01  4.731096e-04  4.731097e-07  \n",
              "matrix4     8.239180e+00  7.964807e-03  7.964541e-06  \n",
              "hilbert(4)  3.541213e+03  2.975095e+00  2.974587e-03  \n",
              "hilbert(5)  2.663233e+06  1.997924e+03  1.997034e+00  "
            ],
            "text/html": [
              "\n",
              "  <div id=\"df-9e50769d-5d45-4df2-a617-35130ca316ec\">\n",
              "    <div class=\"colab-df-container\">\n",
              "      <div>\n",
              "<style scoped>\n",
              "    .dataframe tbody tr th:only-of-type {\n",
              "        vertical-align: middle;\n",
              "    }\n",
              "\n",
              "    .dataframe tbody tr th {\n",
              "        vertical-align: top;\n",
              "    }\n",
              "\n",
              "    .dataframe thead th {\n",
              "        text-align: right;\n",
              "    }\n",
              "</style>\n",
              "<table border=\"1\" class=\"dataframe\">\n",
              "  <thead>\n",
              "    <tr style=\"text-align: right;\">\n",
              "      <th></th>\n",
              "      <th>Спектральный критерий</th>\n",
              "      <th>Критерий Ортеги</th>\n",
              "      <th>Угловой критерий</th>\n",
              "      <th>eps=10^(-2)</th>\n",
              "      <th>eps=10^(-5)</th>\n",
              "      <th>eps=10^(-8)</th>\n",
              "    </tr>\n",
              "  </thead>\n",
              "  <tbody>\n",
              "    <tr>\n",
              "      <th>matrix1</th>\n",
              "      <td>112.480460</td>\n",
              "      <td>2.378739e+00</td>\n",
              "      <td>2.378739</td>\n",
              "      <td>5.423333e-05</td>\n",
              "      <td>5.423030e-08</td>\n",
              "      <td>5.423030e-11</td>\n",
              "    </tr>\n",
              "    <tr>\n",
              "      <th>matrix2</th>\n",
              "      <td>2222.446243</td>\n",
              "      <td>6.675334e+02</td>\n",
              "      <td>667.533363</td>\n",
              "      <td>2.099114e+00</td>\n",
              "      <td>2.155025e-03</td>\n",
              "      <td>2.155081e-06</td>\n",
              "    </tr>\n",
              "    <tr>\n",
              "      <th>matrix3</th>\n",
              "      <td>18.000000</td>\n",
              "      <td>8.062258e+00</td>\n",
              "      <td>8.062258</td>\n",
              "      <td>4.731096e-01</td>\n",
              "      <td>4.731096e-04</td>\n",
              "      <td>4.731097e-07</td>\n",
              "    </tr>\n",
              "    <tr>\n",
              "      <th>matrix4</th>\n",
              "      <td>15.206906</td>\n",
              "      <td>9.550851e+00</td>\n",
              "      <td>3.609882</td>\n",
              "      <td>8.239180e+00</td>\n",
              "      <td>7.964807e-03</td>\n",
              "      <td>7.964541e-06</td>\n",
              "    </tr>\n",
              "    <tr>\n",
              "      <th>hilbert(4)</th>\n",
              "      <td>15613.793560</td>\n",
              "      <td>9.370859e+05</td>\n",
              "      <td>4020.913453</td>\n",
              "      <td>3.541213e+03</td>\n",
              "      <td>2.975095e+00</td>\n",
              "      <td>2.974587e-03</td>\n",
              "    </tr>\n",
              "    <tr>\n",
              "      <th>hilbert(5)</th>\n",
              "      <td>480849.116998</td>\n",
              "      <td>1.608573e+10</td>\n",
              "      <td>95157.699890</td>\n",
              "      <td>2.663233e+06</td>\n",
              "      <td>1.997924e+03</td>\n",
              "      <td>1.997034e+00</td>\n",
              "    </tr>\n",
              "  </tbody>\n",
              "</table>\n",
              "</div>\n",
              "      <button class=\"colab-df-convert\" onclick=\"convertToInteractive('df-9e50769d-5d45-4df2-a617-35130ca316ec')\"\n",
              "              title=\"Convert this dataframe to an interactive table.\"\n",
              "              style=\"display:none;\">\n",
              "        \n",
              "  <svg xmlns=\"http://www.w3.org/2000/svg\" height=\"24px\"viewBox=\"0 0 24 24\"\n",
              "       width=\"24px\">\n",
              "    <path d=\"M0 0h24v24H0V0z\" fill=\"none\"/>\n",
              "    <path d=\"M18.56 5.44l.94 2.06.94-2.06 2.06-.94-2.06-.94-.94-2.06-.94 2.06-2.06.94zm-11 1L8.5 8.5l.94-2.06 2.06-.94-2.06-.94L8.5 2.5l-.94 2.06-2.06.94zm10 10l.94 2.06.94-2.06 2.06-.94-2.06-.94-.94-2.06-.94 2.06-2.06.94z\"/><path d=\"M17.41 7.96l-1.37-1.37c-.4-.4-.92-.59-1.43-.59-.52 0-1.04.2-1.43.59L10.3 9.45l-7.72 7.72c-.78.78-.78 2.05 0 2.83L4 21.41c.39.39.9.59 1.41.59.51 0 1.02-.2 1.41-.59l7.78-7.78 2.81-2.81c.8-.78.8-2.07 0-2.86zM5.41 20L4 18.59l7.72-7.72 1.47 1.35L5.41 20z\"/>\n",
              "  </svg>\n",
              "      </button>\n",
              "      \n",
              "  <style>\n",
              "    .colab-df-container {\n",
              "      display:flex;\n",
              "      flex-wrap:wrap;\n",
              "      gap: 12px;\n",
              "    }\n",
              "\n",
              "    .colab-df-convert {\n",
              "      background-color: #E8F0FE;\n",
              "      border: none;\n",
              "      border-radius: 50%;\n",
              "      cursor: pointer;\n",
              "      display: none;\n",
              "      fill: #1967D2;\n",
              "      height: 32px;\n",
              "      padding: 0 0 0 0;\n",
              "      width: 32px;\n",
              "    }\n",
              "\n",
              "    .colab-df-convert:hover {\n",
              "      background-color: #E2EBFA;\n",
              "      box-shadow: 0px 1px 2px rgba(60, 64, 67, 0.3), 0px 1px 3px 1px rgba(60, 64, 67, 0.15);\n",
              "      fill: #174EA6;\n",
              "    }\n",
              "\n",
              "    [theme=dark] .colab-df-convert {\n",
              "      background-color: #3B4455;\n",
              "      fill: #D2E3FC;\n",
              "    }\n",
              "\n",
              "    [theme=dark] .colab-df-convert:hover {\n",
              "      background-color: #434B5C;\n",
              "      box-shadow: 0px 1px 3px 1px rgba(0, 0, 0, 0.15);\n",
              "      filter: drop-shadow(0px 1px 2px rgba(0, 0, 0, 0.3));\n",
              "      fill: #FFFFFF;\n",
              "    }\n",
              "  </style>\n",
              "\n",
              "      <script>\n",
              "        const buttonEl =\n",
              "          document.querySelector('#df-9e50769d-5d45-4df2-a617-35130ca316ec button.colab-df-convert');\n",
              "        buttonEl.style.display =\n",
              "          google.colab.kernel.accessAllowed ? 'block' : 'none';\n",
              "\n",
              "        async function convertToInteractive(key) {\n",
              "          const element = document.querySelector('#df-9e50769d-5d45-4df2-a617-35130ca316ec');\n",
              "          const dataTable =\n",
              "            await google.colab.kernel.invokeFunction('convertToInteractive',\n",
              "                                                     [key], {});\n",
              "          if (!dataTable) return;\n",
              "\n",
              "          const docLinkHtml = 'Like what you see? Visit the ' +\n",
              "            '<a target=\"_blank\" href=https://colab.research.google.com/notebooks/data_table.ipynb>data table notebook</a>'\n",
              "            + ' to learn more about interactive tables.';\n",
              "          element.innerHTML = '';\n",
              "          dataTable['output_type'] = 'display_data';\n",
              "          await google.colab.output.renderOutput(dataTable, element);\n",
              "          const docLink = document.createElement('div');\n",
              "          docLink.innerHTML = docLinkHtml;\n",
              "          element.appendChild(docLink);\n",
              "        }\n",
              "      </script>\n",
              "    </div>\n",
              "  </div>\n",
              "  "
            ]
          },
          "metadata": {},
          "execution_count": 21
        }
      ]
    }
  ]
}