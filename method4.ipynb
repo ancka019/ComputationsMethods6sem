{
  "nbformat": 4,
  "nbformat_minor": 0,
  "metadata": {
    "colab": {
      "name": "method4.ipynb",
      "provenance": [],
      "authorship_tag": "ABX9TyOrmvoGBY0/BY9eECuQiu5K",
      "include_colab_link": true
    },
    "kernelspec": {
      "name": "python3",
      "display_name": "Python 3"
    },
    "language_info": {
      "name": "python"
    }
  },
  "cells": [
    {
      "cell_type": "markdown",
      "metadata": {
        "id": "view-in-github",
        "colab_type": "text"
      },
      "source": [
        "<a href=\"https://colab.research.google.com/github/ancka019/ComputationsMethods6sem/blob/main/method4.ipynb\" target=\"_parent\"><img src=\"https://colab.research.google.com/assets/colab-badge.svg\" alt=\"Open In Colab\"/></a>"
      ]
    },
    {
      "cell_type": "code",
      "source": [
        "import pandas as pd\n",
        "import numpy as np\n",
        "from numpy.linalg import norm, cond, solve, inv\n",
        "from scipy.linalg import hilbert"
      ],
      "metadata": {
        "id": "tic2pTbmvuh-"
      },
      "execution_count": 1,
      "outputs": []
    },
    {
      "cell_type": "code",
      "source": [
        ""
      ],
      "metadata": {
        "id": "3x0muHOZv2eY"
      },
      "execution_count": null,
      "outputs": []
    },
    {
      "cell_type": "markdown",
      "source": [
        "# Методы\n"
      ],
      "metadata": {
        "id": "4-itmbDNwLud"
      }
    },
    {
      "cell_type": "markdown",
      "source": [
        "общая схема итерационного метода\n"
      ],
      "metadata": {
        "id": "e2r25Nw0wSX3"
      }
    },
    {
      "cell_type": "code",
      "source": [
        "def iterational_method(alpha,beta,x0,eps): #общая схема итерационного метода\n",
        "    num_of_iters = 1\n",
        "    x1 = alpha @ x0 + beta\n",
        "    while (norm(x1-x0)>eps and num_of_iters < 500):\n",
        "        x0 = x1\n",
        "        x1 = alpha @ x0 + beta\n",
        "        num_of_iters += 1\n",
        "    return x1, num_of_iters"
      ],
      "metadata": {
        "id": "1YiuM2jNwRTy"
      },
      "execution_count": 2,
      "outputs": []
    },
    {
      "cell_type": "markdown",
      "source": [
        "метод Зейделя"
      ],
      "metadata": {
        "id": "ncNnv76bwYco"
      }
    },
    {
      "cell_type": "code",
      "source": [
        "def seidel_method(a,b,x0,eps): \n",
        "    n, m = a.shape[0], a.shape[1]\n",
        "    l,r,d = [np.zeros([n,m]) for _ in range(3)]\n",
        "    for i in range(n):\n",
        "        for j in range(m):\n",
        "            if i > j:\n",
        "                l[i,j] = a[i,j]\n",
        "            elif i < j:\n",
        "                r[i,j] = a[i,j]\n",
        "            else:\n",
        "                d[i,j] = a[i,j]\n",
        "    beta = inv(d+l)\n",
        "    return iterational_method(-beta@r,beta@x0,x0,eps)"
      ],
      "metadata": {
        "id": "NBNpOGG6wb8y"
      },
      "execution_count": 8,
      "outputs": []
    },
    {
      "cell_type": "markdown",
      "source": [
        "метод простых итераций"
      ],
      "metadata": {
        "id": "vIiHH666wtdp"
      }
    },
    {
      "cell_type": "code",
      "source": [
        "def simple_iterational_method(a,b,x0,eps): \n",
        "    alpha = np.zeros([a.shape[0],a.shape[1]])\n",
        "    beta = np.zeros(b.shape[0])\n",
        "    for i in range(alpha.shape[0]):\n",
        "        for j in range(alpha.shape[1]):\n",
        "            if i != j:\n",
        "                alpha[i,j] = -a[i,j]/a[i,i]\n",
        "                beta[i] = b[i]/a[i,i]\n",
        "    return iterational_method(alpha,beta,x0,eps)"
      ],
      "metadata": {
        "id": "L3mY9td7wloq"
      },
      "execution_count": 4,
      "outputs": []
    },
    {
      "cell_type": "markdown",
      "source": [
        "тесты"
      ],
      "metadata": {
        "id": "2znukMmowvF1"
      }
    },
    {
      "cell_type": "code",
      "execution_count": 5,
      "metadata": {
        "id": "WJQRYo1dtpmx"
      },
      "outputs": [],
      "source": [
        "matrix1 = np.array([[-401.64, 200.12], \n",
        "               [21200.72,  -601.76]]) \n",
        "\n",
        "matrix2 = np.array([[-400.94, 200.02],\n",
        "               [1200.12, -600.96]])\n",
        "matrix3 = np.array([[1,2],\n",
        "              [2,3]])\n",
        "\n",
        "matrix4 = np.array([\n",
        "    [0.1,0.2,0.3],\n",
        "    [0.3,0.3,0.3],\n",
        "    [0.3,0.9,0.7]])"
      ]
    },
    {
      "cell_type": "code",
      "source": [
        ""
      ],
      "metadata": {
        "id": "bKoZhtaPwz5G"
      },
      "execution_count": null,
      "outputs": []
    },
    {
      "cell_type": "markdown",
      "source": [
        "# Решение"
      ],
      "metadata": {
        "id": "69LuxVV6xAQt"
      }
    },
    {
      "cell_type": "code",
      "source": [
        "array = [matrix1,matrix2, matrix3, matrix4,hilbert(4),hilbert(5)]"
      ],
      "metadata": {
        "id": "BPCO6Wf3xD-7"
      },
      "execution_count": 6,
      "outputs": []
    },
    {
      "cell_type": "code",
      "source": [
        "X = pd.DataFrame(columns=['eps=10^(-4),||x_eps-x||','eps=10^(-4),iters',\n",
        "                          'eps=10^(-8),||x_eps-x||', 'eps=10^(-8),iters',\n",
        "                          'eps=10^(-12),||x_eps-x||','eps=10^(-12),iters'])\n",
        "\n",
        "Y = pd.DataFrame(columns=['eps=10^(-4),||x_eps-x||','eps=10^(-4),iters',\n",
        "                          'eps=10^(-8),||x_eps-x||', 'eps=10^(-8),iters',\n",
        "                          'eps=10^(-12),||x_eps-x||','eps=10^(-12),iters'])\n",
        "\n",
        "\n",
        "for matrix in array:\n",
        "    b = np.random.uniform(-100,100,size=matrix.shape[0])\n",
        "    x = solve(matrix,b)\n",
        "    row_X,row_Y = [],[]\n",
        "    for i in range(4,13,4):\n",
        "        x_seidel,seidel_iters = seidel_method(matrix,b,b,10**(-i))\n",
        "        x_iter,iter_iters = simple_iterational_method(matrix,b,b,10**(-i))\n",
        "        row_X.extend([norm(x_seidel-x),seidel_iters])\n",
        "        row_Y.extend([norm(x_iter-x),iter_iters])\n",
        "    X = X.append(pd.Series(row_X,index=X.columns),True)\n",
        "    Y = Y.append(pd.Series(row_Y,index=Y.columns),True)"
      ],
      "metadata": {
        "colab": {
          "base_uri": "https://localhost:8080/"
        },
        "id": "kEk2c-5SxCds",
        "outputId": "977c0f61-6bec-4aa3-d3d3-acf509f4c66f"
      },
      "execution_count": 9,
      "outputs": [
        {
          "output_type": "stream",
          "name": "stderr",
          "text": [
            "/usr/local/lib/python3.7/dist-packages/ipykernel_launcher.py:6: RuntimeWarning: overflow encountered in matmul\n",
            "  \n",
            "/usr/local/lib/python3.7/dist-packages/ipykernel_launcher.py:4: RuntimeWarning: invalid value encountered in subtract\n",
            "  after removing the cwd from sys.path.\n",
            "/usr/local/lib/python3.7/dist-packages/ipykernel_launcher.py:6: RuntimeWarning: invalid value encountered in matmul\n",
            "  \n"
          ]
        }
      ]
    },
    {
      "cell_type": "code",
      "source": [
        "X.index = ['matrix1','matrix2','matrix3', 'matrix4','hilbert(4)','hilbert(5)']\n",
        "\n",
        "X"
      ],
      "metadata": {
        "colab": {
          "base_uri": "https://localhost:8080/",
          "height": 236
        },
        "id": "qTDLbGNLxdu9",
        "outputId": "841aa26f-5e47-4c5e-b408-cf1c4f7bf3cd"
      },
      "execution_count": 10,
      "outputs": [
        {
          "output_type": "execute_result",
          "data": {
            "text/plain": [
              "            eps=10^(-4),||x_eps-x||  eps=10^(-4),iters  \\\n",
              "matrix1                         inf              249.0   \n",
              "matrix2                1.142001e+01              500.0   \n",
              "matrix3                8.814734e+64              500.0   \n",
              "matrix4                1.169070e-04              205.0   \n",
              "hilbert(4)             1.085013e+04              500.0   \n",
              "hilbert(5)             1.283570e+07              500.0   \n",
              "\n",
              "            eps=10^(-8),||x_eps-x||  eps=10^(-8),iters  \\\n",
              "matrix1                         inf              249.0   \n",
              "matrix2                1.142001e+01              500.0   \n",
              "matrix3                8.814734e+64              500.0   \n",
              "matrix4                1.313736e-08              325.0   \n",
              "hilbert(4)             1.085013e+04              500.0   \n",
              "hilbert(5)             1.283570e+07              500.0   \n",
              "\n",
              "            eps=10^(-12),||x_eps-x||  eps=10^(-12),iters  \n",
              "matrix1                          inf               249.0  \n",
              "matrix2                 1.142001e+01               500.0  \n",
              "matrix3                 8.814734e+64               500.0  \n",
              "matrix4                 1.122568e-12               448.0  \n",
              "hilbert(4)              1.085013e+04               500.0  \n",
              "hilbert(5)              1.283570e+07               500.0  "
            ],
            "text/html": [
              "\n",
              "  <div id=\"df-4b74eba9-b8ab-4c76-9245-b9d299c038da\">\n",
              "    <div class=\"colab-df-container\">\n",
              "      <div>\n",
              "<style scoped>\n",
              "    .dataframe tbody tr th:only-of-type {\n",
              "        vertical-align: middle;\n",
              "    }\n",
              "\n",
              "    .dataframe tbody tr th {\n",
              "        vertical-align: top;\n",
              "    }\n",
              "\n",
              "    .dataframe thead th {\n",
              "        text-align: right;\n",
              "    }\n",
              "</style>\n",
              "<table border=\"1\" class=\"dataframe\">\n",
              "  <thead>\n",
              "    <tr style=\"text-align: right;\">\n",
              "      <th></th>\n",
              "      <th>eps=10^(-4),||x_eps-x||</th>\n",
              "      <th>eps=10^(-4),iters</th>\n",
              "      <th>eps=10^(-8),||x_eps-x||</th>\n",
              "      <th>eps=10^(-8),iters</th>\n",
              "      <th>eps=10^(-12),||x_eps-x||</th>\n",
              "      <th>eps=10^(-12),iters</th>\n",
              "    </tr>\n",
              "  </thead>\n",
              "  <tbody>\n",
              "    <tr>\n",
              "      <th>matrix1</th>\n",
              "      <td>inf</td>\n",
              "      <td>249.0</td>\n",
              "      <td>inf</td>\n",
              "      <td>249.0</td>\n",
              "      <td>inf</td>\n",
              "      <td>249.0</td>\n",
              "    </tr>\n",
              "    <tr>\n",
              "      <th>matrix2</th>\n",
              "      <td>1.142001e+01</td>\n",
              "      <td>500.0</td>\n",
              "      <td>1.142001e+01</td>\n",
              "      <td>500.0</td>\n",
              "      <td>1.142001e+01</td>\n",
              "      <td>500.0</td>\n",
              "    </tr>\n",
              "    <tr>\n",
              "      <th>matrix3</th>\n",
              "      <td>8.814734e+64</td>\n",
              "      <td>500.0</td>\n",
              "      <td>8.814734e+64</td>\n",
              "      <td>500.0</td>\n",
              "      <td>8.814734e+64</td>\n",
              "      <td>500.0</td>\n",
              "    </tr>\n",
              "    <tr>\n",
              "      <th>matrix4</th>\n",
              "      <td>1.169070e-04</td>\n",
              "      <td>205.0</td>\n",
              "      <td>1.313736e-08</td>\n",
              "      <td>325.0</td>\n",
              "      <td>1.122568e-12</td>\n",
              "      <td>448.0</td>\n",
              "    </tr>\n",
              "    <tr>\n",
              "      <th>hilbert(4)</th>\n",
              "      <td>1.085013e+04</td>\n",
              "      <td>500.0</td>\n",
              "      <td>1.085013e+04</td>\n",
              "      <td>500.0</td>\n",
              "      <td>1.085013e+04</td>\n",
              "      <td>500.0</td>\n",
              "    </tr>\n",
              "    <tr>\n",
              "      <th>hilbert(5)</th>\n",
              "      <td>1.283570e+07</td>\n",
              "      <td>500.0</td>\n",
              "      <td>1.283570e+07</td>\n",
              "      <td>500.0</td>\n",
              "      <td>1.283570e+07</td>\n",
              "      <td>500.0</td>\n",
              "    </tr>\n",
              "  </tbody>\n",
              "</table>\n",
              "</div>\n",
              "      <button class=\"colab-df-convert\" onclick=\"convertToInteractive('df-4b74eba9-b8ab-4c76-9245-b9d299c038da')\"\n",
              "              title=\"Convert this dataframe to an interactive table.\"\n",
              "              style=\"display:none;\">\n",
              "        \n",
              "  <svg xmlns=\"http://www.w3.org/2000/svg\" height=\"24px\"viewBox=\"0 0 24 24\"\n",
              "       width=\"24px\">\n",
              "    <path d=\"M0 0h24v24H0V0z\" fill=\"none\"/>\n",
              "    <path d=\"M18.56 5.44l.94 2.06.94-2.06 2.06-.94-2.06-.94-.94-2.06-.94 2.06-2.06.94zm-11 1L8.5 8.5l.94-2.06 2.06-.94-2.06-.94L8.5 2.5l-.94 2.06-2.06.94zm10 10l.94 2.06.94-2.06 2.06-.94-2.06-.94-.94-2.06-.94 2.06-2.06.94z\"/><path d=\"M17.41 7.96l-1.37-1.37c-.4-.4-.92-.59-1.43-.59-.52 0-1.04.2-1.43.59L10.3 9.45l-7.72 7.72c-.78.78-.78 2.05 0 2.83L4 21.41c.39.39.9.59 1.41.59.51 0 1.02-.2 1.41-.59l7.78-7.78 2.81-2.81c.8-.78.8-2.07 0-2.86zM5.41 20L4 18.59l7.72-7.72 1.47 1.35L5.41 20z\"/>\n",
              "  </svg>\n",
              "      </button>\n",
              "      \n",
              "  <style>\n",
              "    .colab-df-container {\n",
              "      display:flex;\n",
              "      flex-wrap:wrap;\n",
              "      gap: 12px;\n",
              "    }\n",
              "\n",
              "    .colab-df-convert {\n",
              "      background-color: #E8F0FE;\n",
              "      border: none;\n",
              "      border-radius: 50%;\n",
              "      cursor: pointer;\n",
              "      display: none;\n",
              "      fill: #1967D2;\n",
              "      height: 32px;\n",
              "      padding: 0 0 0 0;\n",
              "      width: 32px;\n",
              "    }\n",
              "\n",
              "    .colab-df-convert:hover {\n",
              "      background-color: #E2EBFA;\n",
              "      box-shadow: 0px 1px 2px rgba(60, 64, 67, 0.3), 0px 1px 3px 1px rgba(60, 64, 67, 0.15);\n",
              "      fill: #174EA6;\n",
              "    }\n",
              "\n",
              "    [theme=dark] .colab-df-convert {\n",
              "      background-color: #3B4455;\n",
              "      fill: #D2E3FC;\n",
              "    }\n",
              "\n",
              "    [theme=dark] .colab-df-convert:hover {\n",
              "      background-color: #434B5C;\n",
              "      box-shadow: 0px 1px 3px 1px rgba(0, 0, 0, 0.15);\n",
              "      filter: drop-shadow(0px 1px 2px rgba(0, 0, 0, 0.3));\n",
              "      fill: #FFFFFF;\n",
              "    }\n",
              "  </style>\n",
              "\n",
              "      <script>\n",
              "        const buttonEl =\n",
              "          document.querySelector('#df-4b74eba9-b8ab-4c76-9245-b9d299c038da button.colab-df-convert');\n",
              "        buttonEl.style.display =\n",
              "          google.colab.kernel.accessAllowed ? 'block' : 'none';\n",
              "\n",
              "        async function convertToInteractive(key) {\n",
              "          const element = document.querySelector('#df-4b74eba9-b8ab-4c76-9245-b9d299c038da');\n",
              "          const dataTable =\n",
              "            await google.colab.kernel.invokeFunction('convertToInteractive',\n",
              "                                                     [key], {});\n",
              "          if (!dataTable) return;\n",
              "\n",
              "          const docLinkHtml = 'Like what you see? Visit the ' +\n",
              "            '<a target=\"_blank\" href=https://colab.research.google.com/notebooks/data_table.ipynb>data table notebook</a>'\n",
              "            + ' to learn more about interactive tables.';\n",
              "          element.innerHTML = '';\n",
              "          dataTable['output_type'] = 'display_data';\n",
              "          await google.colab.output.renderOutput(dataTable, element);\n",
              "          const docLink = document.createElement('div');\n",
              "          docLink.innerHTML = docLinkHtml;\n",
              "          element.appendChild(docLink);\n",
              "        }\n",
              "      </script>\n",
              "    </div>\n",
              "  </div>\n",
              "  "
            ]
          },
          "metadata": {},
          "execution_count": 10
        }
      ]
    },
    {
      "cell_type": "code",
      "source": [
        "Y.index = ['matrix1','matrix2','matrix3', 'matrix4','hilbert(4)','hilbert(5)']\n",
        "\n",
        "Y"
      ],
      "metadata": {
        "colab": {
          "base_uri": "https://localhost:8080/",
          "height": 236
        },
        "id": "uBXTA-xExkbY",
        "outputId": "82967805-66f0-40dc-9590-8deef6636775"
      },
      "execution_count": 11,
      "outputs": [
        {
          "output_type": "execute_result",
          "data": {
            "text/plain": [
              "            eps=10^(-4),||x_eps-x||  eps=10^(-4),iters  \\\n",
              "matrix1                         NaN              494.0   \n",
              "matrix2                4.064391e+01              500.0   \n",
              "matrix3                6.730155e+33              500.0   \n",
              "matrix4                         inf              500.0   \n",
              "hilbert(4)                      inf              500.0   \n",
              "hilbert(5)                      inf              500.0   \n",
              "\n",
              "            eps=10^(-8),||x_eps-x||  eps=10^(-8),iters  \\\n",
              "matrix1                         NaN              494.0   \n",
              "matrix2                4.064391e+01              500.0   \n",
              "matrix3                6.730155e+33              500.0   \n",
              "matrix4                         inf              500.0   \n",
              "hilbert(4)                      inf              500.0   \n",
              "hilbert(5)                      inf              500.0   \n",
              "\n",
              "            eps=10^(-12),||x_eps-x||  eps=10^(-12),iters  \n",
              "matrix1                          NaN               494.0  \n",
              "matrix2                 4.064391e+01               500.0  \n",
              "matrix3                 6.730155e+33               500.0  \n",
              "matrix4                          inf               500.0  \n",
              "hilbert(4)                       inf               500.0  \n",
              "hilbert(5)                       inf               500.0  "
            ],
            "text/html": [
              "\n",
              "  <div id=\"df-67f5c42c-664c-4a16-b885-068699abed74\">\n",
              "    <div class=\"colab-df-container\">\n",
              "      <div>\n",
              "<style scoped>\n",
              "    .dataframe tbody tr th:only-of-type {\n",
              "        vertical-align: middle;\n",
              "    }\n",
              "\n",
              "    .dataframe tbody tr th {\n",
              "        vertical-align: top;\n",
              "    }\n",
              "\n",
              "    .dataframe thead th {\n",
              "        text-align: right;\n",
              "    }\n",
              "</style>\n",
              "<table border=\"1\" class=\"dataframe\">\n",
              "  <thead>\n",
              "    <tr style=\"text-align: right;\">\n",
              "      <th></th>\n",
              "      <th>eps=10^(-4),||x_eps-x||</th>\n",
              "      <th>eps=10^(-4),iters</th>\n",
              "      <th>eps=10^(-8),||x_eps-x||</th>\n",
              "      <th>eps=10^(-8),iters</th>\n",
              "      <th>eps=10^(-12),||x_eps-x||</th>\n",
              "      <th>eps=10^(-12),iters</th>\n",
              "    </tr>\n",
              "  </thead>\n",
              "  <tbody>\n",
              "    <tr>\n",
              "      <th>matrix1</th>\n",
              "      <td>NaN</td>\n",
              "      <td>494.0</td>\n",
              "      <td>NaN</td>\n",
              "      <td>494.0</td>\n",
              "      <td>NaN</td>\n",
              "      <td>494.0</td>\n",
              "    </tr>\n",
              "    <tr>\n",
              "      <th>matrix2</th>\n",
              "      <td>4.064391e+01</td>\n",
              "      <td>500.0</td>\n",
              "      <td>4.064391e+01</td>\n",
              "      <td>500.0</td>\n",
              "      <td>4.064391e+01</td>\n",
              "      <td>500.0</td>\n",
              "    </tr>\n",
              "    <tr>\n",
              "      <th>matrix3</th>\n",
              "      <td>6.730155e+33</td>\n",
              "      <td>500.0</td>\n",
              "      <td>6.730155e+33</td>\n",
              "      <td>500.0</td>\n",
              "      <td>6.730155e+33</td>\n",
              "      <td>500.0</td>\n",
              "    </tr>\n",
              "    <tr>\n",
              "      <th>matrix4</th>\n",
              "      <td>inf</td>\n",
              "      <td>500.0</td>\n",
              "      <td>inf</td>\n",
              "      <td>500.0</td>\n",
              "      <td>inf</td>\n",
              "      <td>500.0</td>\n",
              "    </tr>\n",
              "    <tr>\n",
              "      <th>hilbert(4)</th>\n",
              "      <td>inf</td>\n",
              "      <td>500.0</td>\n",
              "      <td>inf</td>\n",
              "      <td>500.0</td>\n",
              "      <td>inf</td>\n",
              "      <td>500.0</td>\n",
              "    </tr>\n",
              "    <tr>\n",
              "      <th>hilbert(5)</th>\n",
              "      <td>inf</td>\n",
              "      <td>500.0</td>\n",
              "      <td>inf</td>\n",
              "      <td>500.0</td>\n",
              "      <td>inf</td>\n",
              "      <td>500.0</td>\n",
              "    </tr>\n",
              "  </tbody>\n",
              "</table>\n",
              "</div>\n",
              "      <button class=\"colab-df-convert\" onclick=\"convertToInteractive('df-67f5c42c-664c-4a16-b885-068699abed74')\"\n",
              "              title=\"Convert this dataframe to an interactive table.\"\n",
              "              style=\"display:none;\">\n",
              "        \n",
              "  <svg xmlns=\"http://www.w3.org/2000/svg\" height=\"24px\"viewBox=\"0 0 24 24\"\n",
              "       width=\"24px\">\n",
              "    <path d=\"M0 0h24v24H0V0z\" fill=\"none\"/>\n",
              "    <path d=\"M18.56 5.44l.94 2.06.94-2.06 2.06-.94-2.06-.94-.94-2.06-.94 2.06-2.06.94zm-11 1L8.5 8.5l.94-2.06 2.06-.94-2.06-.94L8.5 2.5l-.94 2.06-2.06.94zm10 10l.94 2.06.94-2.06 2.06-.94-2.06-.94-.94-2.06-.94 2.06-2.06.94z\"/><path d=\"M17.41 7.96l-1.37-1.37c-.4-.4-.92-.59-1.43-.59-.52 0-1.04.2-1.43.59L10.3 9.45l-7.72 7.72c-.78.78-.78 2.05 0 2.83L4 21.41c.39.39.9.59 1.41.59.51 0 1.02-.2 1.41-.59l7.78-7.78 2.81-2.81c.8-.78.8-2.07 0-2.86zM5.41 20L4 18.59l7.72-7.72 1.47 1.35L5.41 20z\"/>\n",
              "  </svg>\n",
              "      </button>\n",
              "      \n",
              "  <style>\n",
              "    .colab-df-container {\n",
              "      display:flex;\n",
              "      flex-wrap:wrap;\n",
              "      gap: 12px;\n",
              "    }\n",
              "\n",
              "    .colab-df-convert {\n",
              "      background-color: #E8F0FE;\n",
              "      border: none;\n",
              "      border-radius: 50%;\n",
              "      cursor: pointer;\n",
              "      display: none;\n",
              "      fill: #1967D2;\n",
              "      height: 32px;\n",
              "      padding: 0 0 0 0;\n",
              "      width: 32px;\n",
              "    }\n",
              "\n",
              "    .colab-df-convert:hover {\n",
              "      background-color: #E2EBFA;\n",
              "      box-shadow: 0px 1px 2px rgba(60, 64, 67, 0.3), 0px 1px 3px 1px rgba(60, 64, 67, 0.15);\n",
              "      fill: #174EA6;\n",
              "    }\n",
              "\n",
              "    [theme=dark] .colab-df-convert {\n",
              "      background-color: #3B4455;\n",
              "      fill: #D2E3FC;\n",
              "    }\n",
              "\n",
              "    [theme=dark] .colab-df-convert:hover {\n",
              "      background-color: #434B5C;\n",
              "      box-shadow: 0px 1px 3px 1px rgba(0, 0, 0, 0.15);\n",
              "      filter: drop-shadow(0px 1px 2px rgba(0, 0, 0, 0.3));\n",
              "      fill: #FFFFFF;\n",
              "    }\n",
              "  </style>\n",
              "\n",
              "      <script>\n",
              "        const buttonEl =\n",
              "          document.querySelector('#df-67f5c42c-664c-4a16-b885-068699abed74 button.colab-df-convert');\n",
              "        buttonEl.style.display =\n",
              "          google.colab.kernel.accessAllowed ? 'block' : 'none';\n",
              "\n",
              "        async function convertToInteractive(key) {\n",
              "          const element = document.querySelector('#df-67f5c42c-664c-4a16-b885-068699abed74');\n",
              "          const dataTable =\n",
              "            await google.colab.kernel.invokeFunction('convertToInteractive',\n",
              "                                                     [key], {});\n",
              "          if (!dataTable) return;\n",
              "\n",
              "          const docLinkHtml = 'Like what you see? Visit the ' +\n",
              "            '<a target=\"_blank\" href=https://colab.research.google.com/notebooks/data_table.ipynb>data table notebook</a>'\n",
              "            + ' to learn more about interactive tables.';\n",
              "          element.innerHTML = '';\n",
              "          dataTable['output_type'] = 'display_data';\n",
              "          await google.colab.output.renderOutput(dataTable, element);\n",
              "          const docLink = document.createElement('div');\n",
              "          docLink.innerHTML = docLinkHtml;\n",
              "          element.appendChild(docLink);\n",
              "        }\n",
              "      </script>\n",
              "    </div>\n",
              "  </div>\n",
              "  "
            ]
          },
          "metadata": {},
          "execution_count": 11
        }
      ]
    }
  ]
}