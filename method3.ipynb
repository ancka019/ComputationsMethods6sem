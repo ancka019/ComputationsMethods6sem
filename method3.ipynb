{
  "nbformat": 4,
  "nbformat_minor": 0,
  "metadata": {
    "colab": {
      "name": "method3.ipynb",
      "provenance": [],
      "collapsed_sections": [],
      "authorship_tag": "ABX9TyOAb80Fyx0AmyQL5jhhnELZ",
      "include_colab_link": true
    },
    "kernelspec": {
      "name": "python3",
      "display_name": "Python 3"
    },
    "language_info": {
      "name": "python"
    }
  },
  "cells": [
    {
      "cell_type": "markdown",
      "metadata": {
        "id": "view-in-github",
        "colab_type": "text"
      },
      "source": [
        "<a href=\"https://colab.research.google.com/github/ancka019/ComputationsMethods6sem/blob/main/method3.ipynb\" target=\"_parent\"><img src=\"https://colab.research.google.com/assets/colab-badge.svg\" alt=\"Open In Colab\"/></a>"
      ]
    },
    {
      "cell_type": "code",
      "execution_count": 2,
      "metadata": {
        "id": "MlacGEowp8sS"
      },
      "outputs": [],
      "source": [
        "from math import sqrt\n",
        "import numpy as np\n",
        "import copy\n",
        "import pandas as pd\n",
        "from numpy.linalg import solve, norm,cond\n",
        "from scipy.linalg import hilbert"
      ]
    },
    {
      "cell_type": "code",
      "source": [
        "def cholesky(A):\n",
        "    L = np.zeros((A.shape[0], A.shape[0]))\n",
        "    for i in range(A.shape[0]):\n",
        "        for j in range(i):\n",
        "            temp = 0\n",
        "            for k in range(j):\n",
        "                temp += L[i][k] * L[j][k]\n",
        "            L[i][j] = (A[i][j] - temp) / L[j][j]\n",
        "        temp = A[i][i]\n",
        "        for k in range(i):\n",
        "            temp -= L[i][k] * L[i][k]\n",
        "        L[i][i] = sqrt(temp)\n",
        "    return L          "
      ],
      "metadata": {
        "id": "oL1_F8rypv3K"
      },
      "execution_count": 3,
      "outputs": []
    },
    {
      "cell_type": "markdown",
      "source": [
        "Метод Вращений"
      ],
      "metadata": {
        "id": "D_YLg1_nqSqK"
      }
    },
    {
      "cell_type": "code",
      "source": [
        "def rotation(A, b):  \n",
        "    q = np.column_stack([A, b])\n",
        "    for i in range(q.shape[0] - 1):\n",
        "        for j in range(i+1, q.shape[0]):\n",
        "            c = q[i, i] / sqrt(q[i, i] ** 2 + q[j, i] ** 2)\n",
        "            s = q[j, i] / sqrt(q[i, i] ** 2 + q[j, i] ** 2)\n",
        "            tmp = q[i, :] * c + q[j, :] * s\n",
        "            q[j, :] = q[i, :] * -s + q[j, :] * c\n",
        "            q[i, :] = tmp\n",
        "    x = np.linalg.solve(q[:, :-1], q[:, -1])\n",
        "    return x"
      ],
      "metadata": {
        "id": "HRazO_ohqODp"
      },
      "execution_count": 4,
      "outputs": []
    },
    {
      "cell_type": "code",
      "source": [
        "def solve(L, b):\n",
        "    y = np.linalg.solve(L, b)\n",
        "    x = np.linalg.solve(L.T, y)\n",
        "    return x"
      ],
      "metadata": {
        "id": "fmz7q96Qq0or"
      },
      "execution_count": null,
      "outputs": []
    },
    {
      "cell_type": "code",
      "source": [
        "for size in [3,7, 11]:\n",
        "    print(\"\\n\\nМатрица Гильберта\", size, \"порядка:\")\n",
        "    A = hilbert(size)\n",
        "    x = np.random.uniform(0, 100, size=A.shape[0])\n",
        "    b = np.dot(A, x)\n",
        "    x_rot = rotation(A, b)\n",
        "    x_sqrt = solve(cholesky(A), b)\n",
        "    print(\"Метод вращений:\\n||x - x_rot|| =\", np.linalg.norm(x - x_rot))\n",
        "    print(\"Метод квадратного корня:\\n||x - x_sqrt|| =\", np.linalg.norm(x - x_sqrt))"
      ],
      "metadata": {
        "colab": {
          "base_uri": "https://localhost:8080/"
        },
        "id": "tRzR0eTWqrvu",
        "outputId": "98fcdd46-5014-4eaa-c7b4-998878e16dcf"
      },
      "execution_count": 5,
      "outputs": [
        {
          "output_type": "stream",
          "name": "stdout",
          "text": [
            "\n",
            "\n",
            "Матрица Гильберта 3 порядка:\n",
            "Метод вращений:\n",
            "||x - x_rot|| = 7.152174949829317e-13\n",
            "Метод квадратного корня:\n",
            "||x - x_sqrt|| = 46.60255302362497\n",
            "\n",
            "\n",
            "Матрица Гильберта 7 порядка:\n",
            "Метод вращений:\n",
            "||x - x_rot|| = 1.4657448840318753e-06\n",
            "Метод квадратного корня:\n",
            "||x - x_sqrt|| = 92.52299477490405\n",
            "\n",
            "\n",
            "Матрица Гильберта 11 порядка:\n",
            "Метод вращений:\n",
            "||x - x_rot|| = 1.5663550196336007\n",
            "Метод квадратного корня:\n",
            "||x - x_sqrt|| = 202.711407237665\n"
          ]
        }
      ]
    }
  ]
}