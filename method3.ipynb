{
  "nbformat": 4,
  "nbformat_minor": 0,
  "metadata": {
    "colab": {
      "name": "method3.ipynb",
      "provenance": [],
      "collapsed_sections": [],
      "authorship_tag": "ABX9TyP8yKy9rxcOz2uMv+xqfHOf",
      "include_colab_link": true
    },
    "kernelspec": {
      "name": "python3",
      "display_name": "Python 3"
    },
    "language_info": {
      "name": "python"
    }
  },
  "cells": [
    {
      "cell_type": "markdown",
      "metadata": {
        "id": "view-in-github",
        "colab_type": "text"
      },
      "source": [
        "<a href=\"https://colab.research.google.com/github/ancka019/ComputationsMethods6sem/blob/main/method3.ipynb\" target=\"_parent\"><img src=\"https://colab.research.google.com/assets/colab-badge.svg\" alt=\"Open In Colab\"/></a>"
      ]
    },
    {
      "cell_type": "code",
      "execution_count": 1,
      "metadata": {
        "id": "MlacGEowp8sS"
      },
      "outputs": [],
      "source": [
        "from math import sqrt\n",
        "import numpy as np\n",
        "import copy\n",
        "import pandas as pd\n",
        "from numpy.linalg import solve, norm,cond\n",
        "from scipy.linalg import hilbert"
      ]
    },
    {
      "cell_type": "markdown",
      "source": [
        "Метод Вращений"
      ],
      "metadata": {
        "id": "D_YLg1_nqSqK"
      }
    },
    {
      "cell_type": "code",
      "source": [
        "def rotation(A, b):  \n",
        "    q = np.column_stack([A, b])\n",
        "    for i in range(q.shape[0] - 1):\n",
        "        for j in range(i+1, q.shape[0]):\n",
        "            c = q[i, i] / sqrt(q[i, i] ** 2 + q[j, i] ** 2)\n",
        "            s = q[j, i] / sqrt(q[i, i] ** 2 + q[j, i] ** 2)\n",
        "            tmp = q[i, :] * c + q[j, :] * s\n",
        "            q[j, :] = q[i, :] * -s + q[j, :] * c\n",
        "            q[i, :] = tmp\n",
        "    x = np.linalg.solve(q[:, :-1], q[:, -1])\n",
        "    return x"
      ],
      "metadata": {
        "id": "HRazO_ohqODp"
      },
      "execution_count": 2,
      "outputs": []
    },
    {
      "cell_type": "code",
      "source": [
        "def solve(L, b):\n",
        "    y = np.linalg.solve(L, b)\n",
        "    x = np.linalg.solve(L.T, y)\n",
        "    return x"
      ],
      "metadata": {
        "id": "fmz7q96Qq0or"
      },
      "execution_count": 5,
      "outputs": []
    },
    {
      "cell_type": "code",
      "source": [
        "for size in [3,5,11,7]:\n",
        "    print(\"\\n\\nМатрица Гильберта\", size, \"порядка:\")\n",
        "    A = hilbert(size)\n",
        "    x = np.random.uniform(0, 100, size=A.shape[0])\n",
        "    b = np.dot(A, x)\n",
        "    x_rot = rotation(A, b)\n",
        "    print(\"Метод вращений: \", np.linalg.norm(x - x_rot))"
      ],
      "metadata": {
        "colab": {
          "base_uri": "https://localhost:8080/"
        },
        "id": "tRzR0eTWqrvu",
        "outputId": "67538d84-2a4d-4521-f1be-5a6f5fd38443"
      },
      "execution_count": 23,
      "outputs": [
        {
          "output_type": "stream",
          "name": "stdout",
          "text": [
            "\n",
            "\n",
            "Матрица Гильберта 3 порядка:\n",
            "Метод вращений:  5.139177170801762e-13\n",
            "\n",
            "\n",
            "Матрица Гильберта 5 порядка:\n",
            "Метод вращений:  2.4639237313088117e-09\n",
            "\n",
            "\n",
            "Матрица Гильберта 11 порядка:\n",
            "Метод вращений:  0.7067912852459525\n",
            "\n",
            "\n",
            "Матрица Гильберта 7 порядка:\n",
            "Метод вращений:  9.793402976215278e-07\n"
          ]
        }
      ]
    }
  ]
}