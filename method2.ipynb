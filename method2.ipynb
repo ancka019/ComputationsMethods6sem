{
  "nbformat": 4,
  "nbformat_minor": 0,
  "metadata": {
    "colab": {
      "name": "method2.ipynb",
      "provenance": [],
      "authorship_tag": "ABX9TyPzam2phSdOqF6SBdqnQ6wu",
      "include_colab_link": true
    },
    "kernelspec": {
      "name": "python3",
      "display_name": "Python 3"
    },
    "language_info": {
      "name": "python"
    }
  },
  "cells": [
    {
      "cell_type": "markdown",
      "metadata": {
        "id": "view-in-github",
        "colab_type": "text"
      },
      "source": [
        "<a href=\"https://colab.research.google.com/github/ancka019/ComputationsMethods6sem/blob/main/method2.ipynb\" target=\"_parent\"><img src=\"https://colab.research.google.com/assets/colab-badge.svg\" alt=\"Open In Colab\"/></a>"
      ]
    },
    {
      "cell_type": "code",
      "execution_count": 1,
      "metadata": {
        "id": "lelh6f__gnk0"
      },
      "outputs": [],
      "source": [
        "import numpy as np\n",
        "import pandas as pd\n",
        "from math import sqrt\n",
        "from numpy.linalg import inv, det, norm, cond\n",
        "from scipy.linalg import hilbert"
      ]
    },
    {
      "cell_type": "markdown",
      "source": [
        "Mетод квадратного корня (Холецкого)"
      ],
      "metadata": {
        "id": "wQ6eifhginc1"
      }
    },
    {
      "cell_type": "code",
      "source": [
        "def Cholesky(A):\n",
        "    L = np.zeros((A.shape[0], A.shape[0]))\n",
        "    for i in range(A.shape[0]):\n",
        "        for j in range(i):\n",
        "            temp = 0\n",
        "            for k in range(j):\n",
        "                temp += L[i][k] * L[j][k]\n",
        "            L[i][j] = (A[i][j] - temp) / L[j][j]\n",
        "        temp = A[i][i]\n",
        "        for k in range(i):\n",
        "            temp -= L[i][k] * L[i][k]\n",
        "        L[i][i] = sqrt(temp)\n",
        "    return L    "
      ],
      "metadata": {
        "id": "CFh63S-HiHGq"
      },
      "execution_count": 2,
      "outputs": []
    },
    {
      "cell_type": "markdown",
      "source": [
        "Aлгоритм LU-декомпозиции"
      ],
      "metadata": {
        "id": "_wtfJsjojCXY"
      }
    },
    {
      "cell_type": "code",
      "source": [
        "def lu(a):\n",
        "    n = a.shape[0]\n",
        "    l = np.identity(n)\n",
        "    u = np.zeros([n,n])\n",
        "    for i in range(n):\n",
        "        for j in range(n):\n",
        "            if i <= j:\n",
        "                u[i,j] = a[i,j]-sum([l[i,k]*u[k,j] for k in range(i)])\n",
        "            else:\n",
        "                l[i,j] = (a[i,j]-sum([l[i,k]*u[k,j] for k in range(j)]))/u[j,j]\n",
        "    return l,u"
      ],
      "metadata": {
        "id": "Ha9ijkOUi5Sg"
      },
      "execution_count": 3,
      "outputs": []
    },
    {
      "cell_type": "markdown",
      "source": [
        "Pешение СЛАУ LU-методом"
      ],
      "metadata": {
        "id": "wBJe6J1FjIBI"
      }
    },
    {
      "cell_type": "code",
      "source": [
        "def lu_solve(l,u,b=None): #решение СЛАУ LU-методом\n",
        "    if b is None:\n",
        "        b = np.random.uniform(-100,100,size=(u.shape[1]))\n",
        "    y = np.zeros(l.shape[1])\n",
        "    x = np.zeros(u.shape[1])\n",
        "    n = len(x)\n",
        "    for i in range(len(y)):\n",
        "        y[i] = b[i] - sum([l[i,p]*y[p] for p in range(i)])\n",
        "    for j in range(len(x)):\n",
        "        x[n-j-1]=(y[n-j-1]-sum([u[n-j-1,n-p-1]*x[n-p-1] for p in range(j)]))/u[n-j-1,n-j-1]\n",
        "    return x\n",
        "            "
      ],
      "metadata": {
        "id": "xB4ETm_yjajB"
      },
      "execution_count": 4,
      "outputs": []
    },
    {
      "cell_type": "code",
      "source": [
        "def solve(L, b):\n",
        "    y = np.linalg.solve(L, b)\n",
        "    x = np.linalg.solve(L.T, y)\n",
        "    return x"
      ],
      "metadata": {
        "id": "G6RjCUjKjMHg"
      },
      "execution_count": 24,
      "outputs": []
    },
    {
      "cell_type": "code",
      "source": [
        "for size in [3,5,6,7]:\n",
        "    A = hilbert(size)\n",
        "    x = np.ones(size)\n",
        "    b = np.dot(A, x)\n",
        "    \n",
        "    table = []\n",
        "    print(\"\\nМатрица Гильберта порядка \", size)\n",
        "    for alpha in range(-12, 0):\n",
        "        var_A = A + (10**alpha)*np.eye(size)\n",
        "\n",
        "        table.append(\n",
        "            {'α': 10**alpha,\n",
        "            'cond(A)': cond(A),\n",
        "            'cond(A+αE)': cond(var_A),\n",
        "            '|x-x*|':  norm(x - solve(Cholesky(var_A), b))\n",
        "            }\n",
        "        )\n",
        "        \n",
        "        \n",
        "    table = pd.DataFrame(table)\n",
        "    print(table)\n",
        "\n",
        "    x = np.random.uniform(0, 10, size=A.shape[0])\n",
        "    b = np.dot(A, x)\n",
        "    print('\\nНаилучшее значение α:', table[table['|x-x*|'] == min(table['|x-x*|'])]['α'].array[0])\n",
        "    \n",
        "    print('Случайный вектор x:', x)\n",
        "    diff_table = [\n",
        "        ['Ax = b', norm(x - solve(Cholesky(A), b))],\n",
        "        ['A + α * x = b', norm(x - solve(Cholesky(A + (10 ** alpha) * np.eye(A.shape[0])), b))],\n",
        "        ['A + 10 * α * x = b', norm(x - solve(Cholesky(A + 10 * (10 ** alpha) * np.eye(A.shape[0])), b))],\n",
        "        ['A + 0.1 * α * x = b', norm(x - solve(Cholesky(A + 0.1 * (10 ** alpha) * np.eye(A.shape[0])), b))]\n",
        "    ]\n",
        "    \n",
        "    print(pd.DataFrame(diff_table, columns=['Уравнение', '|x-x*|']))"
      ],
      "metadata": {
        "colab": {
          "base_uri": "https://localhost:8080/"
        },
        "id": "qQXnJ_yzlfsj",
        "outputId": "7829335e-3dc2-46a2-d2b9-cdb51521eb0e"
      },
      "execution_count": 27,
      "outputs": [
        {
          "output_type": "stream",
          "name": "stdout",
          "text": [
            "\n",
            "Матрица Гильберта порядка  3\n",
            "               α     cond(A)  cond(A+αE)        |x-x*|\n",
            "0   1.000000e-12  524.056778  524.056777  3.855113e-11\n",
            "1   1.000000e-11  524.056778  524.056776  3.853672e-10\n",
            "2   1.000000e-10  524.056778  524.056758  3.853580e-09\n",
            "3   1.000000e-09  524.056778  524.056583  3.853569e-08\n",
            "4   1.000000e-08  524.056778  524.054831  3.853556e-07\n",
            "5   1.000000e-07  524.056778  524.037315  3.853429e-06\n",
            "6   1.000000e-06  524.056778  523.862213  3.852163e-05\n",
            "7   1.000000e-05  524.056778  522.117620  3.839546e-04\n",
            "8   1.000000e-04  524.056778  505.291334  3.717896e-03\n",
            "9   1.000000e-03  524.056778  382.204731  2.830854e-02\n",
            "10  1.000000e-02  524.056778  111.790091  9.450946e-02\n",
            "11  1.000000e-01  524.056778   14.688460  3.188015e-01\n",
            "\n",
            "Наилучшее значение α: 1e-12\n",
            "Случайный вектор x: [8.35231104 9.86414907 4.35600915]\n",
            "             Уравнение        |x-x*|\n",
            "0               Ax = b  2.058525e-13\n",
            "1        A + α * x = b  3.397957e+00\n",
            "2   A + 10 * α * x = b  6.842117e+00\n",
            "3  A + 0.1 * α * x = b  2.360705e+00\n",
            "\n",
            "Матрица Гильберта порядка  5\n",
            "               α        cond(A)     cond(A+αE)        |x-x*|\n",
            "0   1.000000e-12  476607.250243  476607.105284  1.429675e-09\n",
            "1   1.000000e-11  476607.250243  476605.800683  1.436871e-08\n",
            "2   1.000000e-10  476607.250243  476592.755044  1.436147e-07\n",
            "3   1.000000e-09  476607.250243  476462.337937  1.435758e-06\n",
            "4   1.000000e-08  476607.250243  475162.081827  1.431870e-05\n",
            "5   1.000000e-07  476607.250243  462539.473665  1.394205e-04\n",
            "6   1.000000e-06  476607.250243  365456.558250  1.104924e-03\n",
            "7   1.000000e-05  476607.250243  117931.147733  3.792613e-03\n",
            "8   1.000000e-04  476607.250243   15172.641273  1.167345e-02\n",
            "9   1.000000e-03  476607.250243    1562.911948  3.877928e-02\n",
            "10  1.000000e-02  476607.250243     157.653234  1.300612e-01\n",
            "11  1.000000e-01  476607.250243      16.669959  4.044244e-01\n",
            "\n",
            "Наилучшее значение α: 1e-12\n",
            "Случайный вектор x: [3.13712602 2.18515133 4.91894182 3.68527983 4.42087382]\n",
            "             Уравнение        |x-x*|\n",
            "0               Ax = b  3.435773e-12\n",
            "1        A + α * x = b  2.788998e+00\n",
            "2   A + 10 * α * x = b  5.135659e+00\n",
            "3  A + 0.1 * α * x = b  1.718274e+00\n",
            "\n",
            "Матрица Гильберта порядка  6\n",
            "               α       cond(A)    cond(A+αE)        |x-x*|\n",
            "0   1.000000e-12  1.495106e+07  1.495092e+07  8.619576e-09\n",
            "1   1.000000e-11  1.495106e+07  1.494968e+07  8.689709e-08\n",
            "2   1.000000e-10  1.495106e+07  1.493726e+07  8.685994e-07\n",
            "3   1.000000e-09  1.495106e+07  1.481424e+07  8.617672e-06\n",
            "4   1.000000e-08  1.495106e+07  1.368702e+07  7.967961e-05\n",
            "5   1.000000e-07  1.495106e+07  7.772712e+06  4.568463e-04\n",
            "6   1.000000e-06  1.495106e+07  1.460733e+06  1.109363e-03\n",
            "7   1.000000e-05  1.495106e+07  1.601568e+05  4.486936e-03\n",
            "8   1.000000e-04  1.495106e+07  1.617249e+04  1.254156e-02\n",
            "9   1.000000e-03  1.495106e+07  1.619724e+03  4.464794e-02\n",
            "10  1.000000e-02  1.495106e+07  1.628882e+02  1.402685e-01\n",
            "11  1.000000e-01  1.495106e+07  1.718898e+01  4.438284e-01\n",
            "\n",
            "Наилучшее значение α: 1e-12\n",
            "Случайный вектор x: [4.18086654 8.7378584  4.8838152  2.84410308 4.64349923 7.23481307]\n",
            "             Уравнение        |x-x*|\n",
            "0               Ax = b  1.616767e-09\n",
            "1        A + α * x = b  5.037573e+00\n",
            "2   A + 10 * α * x = b  8.349879e+00\n",
            "3  A + 0.1 * α * x = b  4.373891e+00\n",
            "\n",
            "Матрица Гильберта порядка  7\n",
            "               α       cond(A)    cond(A+αE)        |x-x*|\n",
            "0   1.000000e-12  4.753674e+08  4.752313e+08  8.511192e-08\n",
            "1   1.000000e-11  4.753674e+08  4.740107e+08  5.391765e-07\n",
            "2   1.000000e-10  4.753674e+08  4.621403e+08  5.107680e-06\n",
            "3   1.000000e-09  4.753674e+08  3.695867e+08  4.086073e-05\n",
            "4   1.000000e-08  4.753674e+08  1.230842e+08  1.416523e-04\n",
            "5   1.000000e-07  4.753674e+08  1.604815e+07  3.978056e-04\n",
            "6   1.000000e-06  4.753674e+08  1.655104e+06  1.492746e-03\n",
            "7   1.000000e-05  4.753674e+08  1.660315e+05  4.453963e-03\n",
            "8   1.000000e-04  4.753674e+08  1.660927e+04  1.441202e-02\n",
            "9   1.000000e-03  4.753674e+08  1.661880e+03  4.836408e-02\n",
            "10  1.000000e-02  4.753674e+08  1.670885e+02  1.501561e-01\n",
            "11  1.000000e-01  4.753674e+08  1.760885e+01  4.808209e-01\n",
            "\n",
            "Наилучшее значение α: 1e-12\n",
            "Случайный вектор x: [2.45089405 7.70132379 9.89257514 2.12477988 8.45193351 9.55524321\n",
            " 0.28009837]\n",
            "             Уравнение        |x-x*|\n",
            "0               Ax = b  1.040832e-09\n",
            "1        A + α * x = b  8.984796e+00\n",
            "2   A + 10 * α * x = b  1.258566e+01\n",
            "3  A + 0.1 * α * x = b  8.429402e+00\n"
          ]
        }
      ]
    }
  ]
}