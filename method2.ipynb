{
  "nbformat": 4,
  "nbformat_minor": 0,
  "metadata": {
    "colab": {
      "name": "method2.ipynb",
      "provenance": [],
      "collapsed_sections": [],
      "authorship_tag": "ABX9TyPfcb6yFuOOXMDOrZVBWp7s",
      "include_colab_link": true
    },
    "kernelspec": {
      "name": "python3",
      "display_name": "Python 3"
    },
    "language_info": {
      "name": "python"
    }
  },
  "cells": [
    {
      "cell_type": "markdown",
      "metadata": {
        "id": "view-in-github",
        "colab_type": "text"
      },
      "source": [
        "<a href=\"https://colab.research.google.com/github/ancka019/ComputationsMethods6sem/blob/main/method2.ipynb\" target=\"_parent\"><img src=\"https://colab.research.google.com/assets/colab-badge.svg\" alt=\"Open In Colab\"/></a>"
      ]
    },
    {
      "cell_type": "code",
      "execution_count": 29,
      "metadata": {
        "id": "lelh6f__gnk0"
      },
      "outputs": [],
      "source": [
        "import numpy as np\n",
        "import pandas as pd\n",
        "from math import sqrt\n",
        "from numpy.linalg import inv, det, norm, cond\n",
        "from scipy.linalg import hilbert"
      ]
    },
    {
      "cell_type": "markdown",
      "source": [
        "Mетод квадратного корня (Холецкого)"
      ],
      "metadata": {
        "id": "wQ6eifhginc1"
      }
    },
    {
      "cell_type": "code",
      "source": [
        "def Cholesky(A):\n",
        "    L = np.zeros((A.shape[0], A.shape[0]))\n",
        "    for i in range(A.shape[0]):\n",
        "        for j in range(i):\n",
        "            temp = 0\n",
        "            for k in range(j):\n",
        "                temp += L[i][k] * L[j][k]\n",
        "            L[i][j] = (A[i][j] - temp) / L[j][j]\n",
        "        temp = A[i][i]\n",
        "        for k in range(i):\n",
        "            temp -= L[i][k] * L[i][k]\n",
        "        L[i][i] = sqrt(temp)\n",
        "    return L    "
      ],
      "metadata": {
        "id": "CFh63S-HiHGq"
      },
      "execution_count": 30,
      "outputs": []
    },
    {
      "cell_type": "markdown",
      "source": [
        "Aлгоритм LU-декомпозиции"
      ],
      "metadata": {
        "id": "_wtfJsjojCXY"
      }
    },
    {
      "cell_type": "code",
      "source": [
        "def lu(a):\n",
        "    n = a.shape[0]\n",
        "    l = np.identity(n)\n",
        "    u = np.zeros([n,n])\n",
        "    for i in range(n):\n",
        "        for j in range(n):\n",
        "            if i <= j:\n",
        "                u[i,j] = a[i,j]-sum([l[i,k]*u[k,j] for k in range(i)])\n",
        "            else:\n",
        "                l[i,j] = (a[i,j]-sum([l[i,k]*u[k,j] for k in range(j)]))/u[j,j]\n",
        "    return l,u"
      ],
      "metadata": {
        "id": "Ha9ijkOUi5Sg"
      },
      "execution_count": 3,
      "outputs": []
    },
    {
      "cell_type": "markdown",
      "source": [
        "Pешение СЛАУ LU-методом"
      ],
      "metadata": {
        "id": "wBJe6J1FjIBI"
      }
    },
    {
      "cell_type": "code",
      "source": [
        "def lu_solve(l,u,b=None): #решение СЛАУ LU-методом\n",
        "    if b is None:\n",
        "        b = np.random.uniform(-100,100,size=(u.shape[1]))\n",
        "    y = np.zeros(l.shape[1])\n",
        "    x = np.zeros(u.shape[1])\n",
        "    n = len(x)\n",
        "    for i in range(len(y)):\n",
        "        y[i] = b[i] - sum([l[i,p]*y[p] for p in range(i)])\n",
        "    for j in range(len(x)):\n",
        "        x[n-j-1]=(y[n-j-1]-sum([u[n-j-1,n-p-1]*x[n-p-1] for p in range(j)]))/u[n-j-1,n-j-1]\n",
        "    return x\n",
        "            "
      ],
      "metadata": {
        "id": "xB4ETm_yjajB"
      },
      "execution_count": 4,
      "outputs": []
    },
    {
      "cell_type": "code",
      "source": [
        "def solve(L, b):\n",
        "    y = np.linalg.solve(L, b)\n",
        "    x = np.linalg.solve(L.T, y)\n",
        "    return x"
      ],
      "metadata": {
        "id": "G6RjCUjKjMHg"
      },
      "execution_count": 5,
      "outputs": []
    },
    {
      "cell_type": "code",
      "source": [
        "for size in [3, 7, 11]:\n",
        "    A = hilbert(size)\n",
        "    x = np.ones(size)\n",
        "    b = np.dot(A, x)\n",
        "    \n",
        "    table = []\n",
        "    print(\"\\nМатрица Гильберта \", size, '*', size)\n",
        "    for alpha in range(-12, 0):\n",
        "        var_A = A + (10**alpha)*np.eye(size)\n",
        "\n",
        "        table.append(\n",
        "            {'α': 10**alpha,\n",
        "            'cond(A)': cond(A),\n",
        "            'cond(A+αE)': cond(var_A),\n",
        "            '|x-x*|':  norm(x - solve(Cholesky(var_A), b))\n",
        "            }\n",
        "        )\n",
        "        \n",
        "        \n",
        "    table = pd.DataFrame(table)\n",
        "    print(table)\n",
        "\n",
        "    x = np.random.uniform(0, 10, size=A.shape[0])\n",
        "    b = np.dot(A, x)\n",
        "    print('\\nНаилучшее значение α:', table[table['|x-x*|'] == min(table['|x-x*|'])]['α'].array[0])\n",
        "    \n",
        "    print('Случайный вектор x:', x)\n",
        "    diff_table = [\n",
        "        ['Ax = b', norm(x - solve(Cholesky(A), b))],\n",
        "        ['A + α * x = b', norm(x - solve(Cholesky(A + (10 ** alpha) * np.eye(A.shape[0])), b))],\n",
        "        ['A + 10 * α * x = b', norm(x - solve(Cholesky(A + 10 * (10 ** alpha) * np.eye(A.shape[0])), b))],\n",
        "        ['A + 0.1 * α * x = b', norm(x - solve(Cholesky(A + 0.1 * (10 ** alpha) * np.eye(A.shape[0])), b))]\n",
        "    ]\n",
        "    \n",
        "    print(pd.DataFrame(diff_table, columns=['Уравнение', '|x-x*|']))"
      ],
      "metadata": {
        "colab": {
          "base_uri": "https://localhost:8080/"
        },
        "id": "qQXnJ_yzlfsj",
        "outputId": "27ee7eb4-c105-47dd-8643-54f236e0b703"
      },
      "execution_count": 32,
      "outputs": [
        {
          "output_type": "stream",
          "name": "stdout",
          "text": [
            "\n",
            "Матрица Гильберта  3 * 3\n",
            "               α     cond(A)  cond(A+αE)        |x-x*|\n",
            "0   1.000000e-12  524.056778  524.056777  3.855113e-11\n",
            "1   1.000000e-11  524.056778  524.056776  3.853672e-10\n",
            "2   1.000000e-10  524.056778  524.056758  3.853580e-09\n",
            "3   1.000000e-09  524.056778  524.056583  3.853569e-08\n",
            "4   1.000000e-08  524.056778  524.054831  3.853556e-07\n",
            "5   1.000000e-07  524.056778  524.037315  3.853429e-06\n",
            "6   1.000000e-06  524.056778  523.862213  3.852163e-05\n",
            "7   1.000000e-05  524.056778  522.117620  3.839546e-04\n",
            "8   1.000000e-04  524.056778  505.291334  3.717896e-03\n",
            "9   1.000000e-03  524.056778  382.204731  2.830854e-02\n",
            "10  1.000000e-02  524.056778  111.790091  9.450946e-02\n",
            "11  1.000000e-01  524.056778   14.688460  3.188015e-01\n",
            "\n",
            "Наилучшее значение α: 1e-12\n",
            "Случайный вектор x: [8.95734608 5.89059218 4.28804588]\n",
            "             Уравнение        |x-x*|\n",
            "0               Ax = b  2.152399e-13\n",
            "1        A + α * x = b  8.896364e-01\n",
            "2   A + 10 * α * x = b  4.858649e+00\n",
            "3  A + 0.1 * α * x = b  1.393375e-01\n",
            "\n",
            "Матрица Гильберта  7 * 7\n",
            "               α       cond(A)    cond(A+αE)        |x-x*|\n",
            "0   1.000000e-12  4.753674e+08  4.752313e+08  8.511192e-08\n",
            "1   1.000000e-11  4.753674e+08  4.740107e+08  5.391765e-07\n",
            "2   1.000000e-10  4.753674e+08  4.621403e+08  5.107680e-06\n",
            "3   1.000000e-09  4.753674e+08  3.695867e+08  4.086073e-05\n",
            "4   1.000000e-08  4.753674e+08  1.230842e+08  1.416523e-04\n",
            "5   1.000000e-07  4.753674e+08  1.604815e+07  3.978056e-04\n",
            "6   1.000000e-06  4.753674e+08  1.655104e+06  1.492746e-03\n",
            "7   1.000000e-05  4.753674e+08  1.660315e+05  4.453963e-03\n",
            "8   1.000000e-04  4.753674e+08  1.660927e+04  1.441202e-02\n",
            "9   1.000000e-03  4.753674e+08  1.661880e+03  4.836408e-02\n",
            "10  1.000000e-02  4.753674e+08  1.670885e+02  1.501561e-01\n",
            "11  1.000000e-01  4.753674e+08  1.760885e+01  4.808209e-01\n",
            "\n",
            "Наилучшее значение α: 1e-12\n",
            "Случайный вектор x: [7.91738682 1.91736194 9.60776338 1.51695904 4.15695081 1.83859328\n",
            " 8.4589401 ]\n",
            "             Уравнение        |x-x*|\n",
            "0               Ax = b  7.338539e-08\n",
            "1        A + α * x = b  8.651423e+00\n",
            "2   A + 10 * α * x = b  1.042678e+01\n",
            "3  A + 0.1 * α * x = b  8.128828e+00\n",
            "\n",
            "Матрица Гильберта  11 * 11\n",
            "               α       cond(A)    cond(A+αE)    |x-x*|\n",
            "0   1.000000e-12  5.222678e+14  1.768864e+12  0.000087\n",
            "1   1.000000e-11  5.222678e+14  1.774280e+11  0.000006\n",
            "2   1.000000e-10  5.222678e+14  1.774823e+10  0.000020\n",
            "3   1.000000e-09  5.222678e+14  1.774877e+09  0.000052\n",
            "4   1.000000e-08  5.222678e+14  1.774883e+08  0.000188\n",
            "5   1.000000e-07  5.222678e+14  1.774883e+07  0.000576\n",
            "6   1.000000e-06  5.222678e+14  1.774884e+06  0.001783\n",
            "7   1.000000e-05  5.222678e+14  1.774893e+05  0.006014\n",
            "8   1.000000e-04  5.222678e+14  1.774983e+04  0.018714\n",
            "9   1.000000e-03  5.222678e+14  1.775883e+03  0.058679\n",
            "10  1.000000e-02  5.222678e+14  1.784883e+02  0.189412\n",
            "11  1.000000e-01  5.222678e+14  1.874883e+01  0.607840\n",
            "\n",
            "Наилучшее значение α: 1e-11\n",
            "Случайный вектор x: [4.23947436 9.74803985 3.18332427 1.03256059 4.9521158  1.36356832\n",
            " 7.33464542 9.89644274 4.41229927 9.04731544 2.85318004]\n",
            "             Уравнение     |x-x*|\n",
            "0               Ax = b   0.004700\n",
            "1        A + α * x = b  10.985009\n",
            "2   A + 10 * α * x = b  13.899052\n",
            "3  A + 0.1 * α * x = b   9.768841\n"
          ]
        }
      ]
    }
  ]
}